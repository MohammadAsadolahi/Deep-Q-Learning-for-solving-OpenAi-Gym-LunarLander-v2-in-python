{
  "cells": [
    {
      "cell_type": "markdown",
      "source": [
        "# WRITTEN BY MOHAMMAD ASADOLAHI\n",
        "# Mohammad.E.Asadolahi@gmail.com\n",
        "# https://github.com/mohammadAsadolahi\n",
        "\n",
        "repo address:https://github.com/mohammadAsadolahi/Deep-Q-Learning-for-solving-OpenAi-Gym-LunarLander-v2-\n"
      ],
      "metadata": {
        "id": "sTztFd8zovZR"
      }
    },
    {
      "cell_type": "code",
      "execution_count": 1,
      "metadata": {
        "id": "8x-y8DACYp0A"
      },
      "outputs": [],
      "source": [
        "import numpy as np\n",
        "import matplotlib.pyplot as plt\n",
        "import gym\n",
        "from keras.layers import Dense, Activation\n",
        "from keras.models import Sequential, load_model\n",
        "import keras\n",
        "import numpy as np"
      ]
    },
    {
      "cell_type": "code",
      "execution_count": 2,
      "metadata": {
        "colab": {
          "base_uri": "https://localhost:8080/"
        },
        "id": "NY4U5CiFZm_T",
        "outputId": "f5f1046b-5f58-4721-c18f-3c22db0354f0"
      },
      "outputs": [
        {
          "output_type": "stream",
          "name": "stdout",
          "text": [
            "Collecting box2d-py\n",
            "  Downloading box2d_py-2.3.8-cp37-cp37m-manylinux1_x86_64.whl (448 kB)\n",
            "\u001b[?25l\r\u001b[K     |▊                               | 10 kB 16.1 MB/s eta 0:00:01\r\u001b[K     |█▌                              | 20 kB 16.9 MB/s eta 0:00:01\r\u001b[K     |██▏                             | 30 kB 10.0 MB/s eta 0:00:01\r\u001b[K     |███                             | 40 kB 8.4 MB/s eta 0:00:01\r\u001b[K     |███▋                            | 51 kB 4.5 MB/s eta 0:00:01\r\u001b[K     |████▍                           | 61 kB 5.3 MB/s eta 0:00:01\r\u001b[K     |█████▏                          | 71 kB 5.9 MB/s eta 0:00:01\r\u001b[K     |█████▉                          | 81 kB 4.4 MB/s eta 0:00:01\r\u001b[K     |██████▋                         | 92 kB 4.8 MB/s eta 0:00:01\r\u001b[K     |███████▎                        | 102 kB 5.2 MB/s eta 0:00:01\r\u001b[K     |████████                        | 112 kB 5.2 MB/s eta 0:00:01\r\u001b[K     |████████▊                       | 122 kB 5.2 MB/s eta 0:00:01\r\u001b[K     |█████████▌                      | 133 kB 5.2 MB/s eta 0:00:01\r\u001b[K     |██████████▎                     | 143 kB 5.2 MB/s eta 0:00:01\r\u001b[K     |███████████                     | 153 kB 5.2 MB/s eta 0:00:01\r\u001b[K     |███████████▊                    | 163 kB 5.2 MB/s eta 0:00:01\r\u001b[K     |████████████▍                   | 174 kB 5.2 MB/s eta 0:00:01\r\u001b[K     |█████████████▏                  | 184 kB 5.2 MB/s eta 0:00:01\r\u001b[K     |█████████████▉                  | 194 kB 5.2 MB/s eta 0:00:01\r\u001b[K     |██████████████▋                 | 204 kB 5.2 MB/s eta 0:00:01\r\u001b[K     |███████████████▍                | 215 kB 5.2 MB/s eta 0:00:01\r\u001b[K     |████████████████                | 225 kB 5.2 MB/s eta 0:00:01\r\u001b[K     |████████████████▉               | 235 kB 5.2 MB/s eta 0:00:01\r\u001b[K     |█████████████████▌              | 245 kB 5.2 MB/s eta 0:00:01\r\u001b[K     |██████████████████▎             | 256 kB 5.2 MB/s eta 0:00:01\r\u001b[K     |███████████████████             | 266 kB 5.2 MB/s eta 0:00:01\r\u001b[K     |███████████████████▊            | 276 kB 5.2 MB/s eta 0:00:01\r\u001b[K     |████████████████████▌           | 286 kB 5.2 MB/s eta 0:00:01\r\u001b[K     |█████████████████████▏          | 296 kB 5.2 MB/s eta 0:00:01\r\u001b[K     |██████████████████████          | 307 kB 5.2 MB/s eta 0:00:01\r\u001b[K     |██████████████████████▋         | 317 kB 5.2 MB/s eta 0:00:01\r\u001b[K     |███████████████████████▍        | 327 kB 5.2 MB/s eta 0:00:01\r\u001b[K     |████████████████████████        | 337 kB 5.2 MB/s eta 0:00:01\r\u001b[K     |████████████████████████▉       | 348 kB 5.2 MB/s eta 0:00:01\r\u001b[K     |█████████████████████████▋      | 358 kB 5.2 MB/s eta 0:00:01\r\u001b[K     |██████████████████████████▎     | 368 kB 5.2 MB/s eta 0:00:01\r\u001b[K     |███████████████████████████     | 378 kB 5.2 MB/s eta 0:00:01\r\u001b[K     |███████████████████████████▊    | 389 kB 5.2 MB/s eta 0:00:01\r\u001b[K     |████████████████████████████▌   | 399 kB 5.2 MB/s eta 0:00:01\r\u001b[K     |█████████████████████████████▏  | 409 kB 5.2 MB/s eta 0:00:01\r\u001b[K     |██████████████████████████████  | 419 kB 5.2 MB/s eta 0:00:01\r\u001b[K     |██████████████████████████████▊ | 430 kB 5.2 MB/s eta 0:00:01\r\u001b[K     |███████████████████████████████▍| 440 kB 5.2 MB/s eta 0:00:01\r\u001b[K     |████████████████████████████████| 448 kB 5.2 MB/s \n",
            "\u001b[?25hInstalling collected packages: box2d-py\n",
            "Successfully installed box2d-py-2.3.8\n",
            "Requirement already satisfied: gym[Box_2D] in /usr/local/lib/python3.7/dist-packages (0.17.3)\n",
            "\u001b[33mWARNING: gym 0.17.3 does not provide the extra 'box_2d'\u001b[0m\n",
            "Requirement already satisfied: pyglet<=1.5.0,>=1.4.0 in /usr/local/lib/python3.7/dist-packages (from gym[Box_2D]) (1.5.0)\n",
            "Requirement already satisfied: numpy>=1.10.4 in /usr/local/lib/python3.7/dist-packages (from gym[Box_2D]) (1.21.6)\n",
            "Requirement already satisfied: scipy in /usr/local/lib/python3.7/dist-packages (from gym[Box_2D]) (1.4.1)\n",
            "Requirement already satisfied: cloudpickle<1.7.0,>=1.2.0 in /usr/local/lib/python3.7/dist-packages (from gym[Box_2D]) (1.3.0)\n",
            "Requirement already satisfied: future in /usr/local/lib/python3.7/dist-packages (from pyglet<=1.5.0,>=1.4.0->gym[Box_2D]) (0.16.0)\n"
          ]
        }
      ],
      "source": [
        "!pip3 install box2d-py\n",
        "!pip3 install gym[Box_2D]"
      ]
    },
    {
      "cell_type": "code",
      "execution_count": 3,
      "metadata": {
        "id": "6CbiEYt9YyTr"
      },
      "outputs": [],
      "source": [
        "env = gym.make('LunarLander-v2')"
      ]
    },
    {
      "cell_type": "code",
      "execution_count": 4,
      "metadata": {
        "id": "dLT6a5HGJZEe"
      },
      "outputs": [],
      "source": [
        "class replayBuffer:\n",
        "  def __init__(self,maxSize,stateDim):\n",
        "    self.state=np.zeros((maxSize,stateDim))\n",
        "    self.action=np.zeros(maxSize,dtype= np.int8)\n",
        "    self.reward=np.zeros(maxSize)\n",
        "    self.done=np.zeros(maxSize,dtype= np.int8)\n",
        "    self.nextState=np.zeros((maxSize,stateDim))\n",
        "    self.maxSize=maxSize\n",
        "    self.curser=0\n",
        "    self.size=0\n",
        "\n",
        "  def save(self,state,action,reward,nextState,done):\n",
        "    self.state[self.curser]=state\n",
        "    self.action[self.curser]=action\n",
        "    self.reward[self.curser]=reward\n",
        "    self.nextState[self.curser]=nextState\n",
        "    self.done[self.curser]=done\n",
        "    self.curser=(self.curser+1)%self.maxSize\n",
        "    if self.size<self.maxSize:\n",
        "      self.size+=1 \n",
        "      \n",
        "  def sample(self,batchSize):\n",
        "    batchSize=min(self.size,batchSize-1)\n",
        "    indexes=np.random.choice([i for i in range(self.size-1)],batchSize)\n",
        "    return self.state[indexes],self.action[indexes],self.reward[indexes],self.nextState[indexes],self.done[indexes]\n"
      ]
    },
    {
      "cell_type": "code",
      "execution_count": 5,
      "metadata": {
        "id": "Y37LHqC2RQEs"
      },
      "outputs": [],
      "source": [
        "class Agent:\n",
        "  def __init__(self,stateShape,actionShape,exploreRate=1.0,exploreRateDecay=0.9995,minimumExploreRate=0.01\\\n",
        "               ,gamma=0.99,saveAfterIterations=10000,modelName=\"DQN_LunarLanderV2.h\"):\n",
        "      self.gamma=gamma\n",
        "      self.exploreRate=exploreRate\n",
        "      self.exploreRateDecay=exploreRateDecay\n",
        "      self.minimumExploreRate=minimumExploreRate\n",
        "      self.actionShape=actionShape\n",
        "      self.memory=replayBuffer(1000000,stateShape)\n",
        "      self.buildModel(stateShape,actionShape)\n",
        "      self.saveAfterIterations=saveAfterIterations\n",
        "      self.updateIterations=0\n",
        "      self.modelName=modelName\n",
        "  \n",
        "  def buildModel(self,input,output):\n",
        "    inputLayer=keras.Input(shape=(input,))\n",
        "    layer=Dense(256,activation='relu')(inputLayer)\n",
        "    layer=Dense(256,activation='relu')(layer)\n",
        "    outputLayer=Dense(output)(layer)\n",
        "    self.model=keras.Model(inputs=inputLayer,outputs=outputLayer)\n",
        "    self.model.compile(optimizer='Adam',loss='mse')\n",
        "\n",
        "  def saveModel(self):\n",
        "      self.model.save_weights(f\"{self.modelName}\")\n",
        "      # print(\"model saved!\")\n",
        "\n",
        "  def loadModel(self):\n",
        "      self.model.load_weights(f\"{self.modelName}\")\n",
        "      # print(\"model sucsessfuly loaded!\")\n",
        "\n",
        "  def getAction(self,state):\n",
        "    if np.random.random()<=self.exploreRate:\n",
        "      return np.random.choice([i for i in range(env.action_space.n)])\n",
        "    else:\n",
        "      return np.argmax(self.model.predict(np.expand_dims(state,axis=0))[0])\n",
        "\n",
        "  def exploreDecay(self):\n",
        "      self.exploreRate=max(self.exploreRate*self.exploreRateDecay,self.minimumExploreRate)\n",
        "\n",
        "  def learn(self,batchSize=64):\n",
        "    if self.memory.size>batchSize:\n",
        "      states,actions,rewards,nextStates,done=self.memory.sample(batchSize)\n",
        "      qState=self.model.predict(states)\n",
        "      qNextState=self.model.predict(nextStates)\n",
        "      maxActions=np.argmax(qNextState,axis=1)\n",
        "      batchIndex = np.arange(batchSize-1, dtype=np.int32)\n",
        "      qState[batchIndex,actions]=(rewards+(self.gamma*qNextState[batchIndex,maxActions.astype(int)]*(1-done)))\n",
        "      _=self.model.fit(x=states,y=qState,verbose=0)\n",
        "      self.exploreDecay()\n",
        "        "
      ]
    },
    {
      "cell_type": "code",
      "execution_count": 6,
      "metadata": {
        "id": "Gxcd73ZwVWsA"
      },
      "outputs": [],
      "source": [
        "agent=Agent(stateShape=env.observation_space.shape[0],actionShape=env.action_space.n)\n",
        "# agent.loadModel()"
      ]
    },
    {
      "cell_type": "code",
      "execution_count": 8,
      "metadata": {
        "colab": {
          "base_uri": "https://localhost:8080/",
          "height": 1000
        },
        "id": "F9w1_Z7vK4C_",
        "outputId": "82167540-da39-4af6-d83c-ed31f3467335"
      },
      "outputs": [
        {
          "output_type": "stream",
          "name": "stdout",
          "text": [
            "episode: 1   reward: -39.39666654529957  avg so far:-39.39666654529957 exploreRate:0.01\n",
            "episode: 2   reward: -240.376496920235  avg so far:-139.8865817327673 exploreRate:0.01\n",
            "episode: 3   reward: -175.64641024596494  avg so far:-151.80652457049985 exploreRate:0.01\n",
            "episode: 4   reward: -332.49213243102474  avg so far:-196.97792653563107 exploreRate:0.01\n",
            "episode: 5   reward: -204.43827757641037  avg so far:-198.46999674378694 exploreRate:0.01\n",
            "episode: 6   reward: -78.77140475905196  avg so far:-178.5202314129978 exploreRate:0.01\n",
            "episode: 7   reward: -99.36785534288325  avg so far:-167.21274911726715 exploreRate:0.01\n",
            "episode: 8   reward: 8.639126271744203  avg so far:-145.23126469364075 exploreRate:0.01\n",
            "episode: 9   reward: 176.7584113963582  avg so far:-109.4546340169742 exploreRate:0.01\n",
            "episode: 10   reward: -309.2693607478285  avg so far:-129.4361066900596 exploreRate:0.01\n",
            "episode: 11   reward: 195.40520681169193  avg so far:-99.9050781899004 exploreRate:0.01\n",
            "episode: 12   reward: 31.434326033663524  avg so far:-88.96012783793674 exploreRate:0.01\n",
            "episode: 13   reward: -159.69814789892308  avg so far:-94.40151399647415 exploreRate:0.01\n",
            "episode: 14   reward: -221.67569490982063  avg so far:-103.49252691885603 exploreRate:0.01\n",
            "episode: 15   reward: -276.9448364923329  avg so far:-115.05601422375449 exploreRate:0.01\n",
            "episode: 16   reward: -65.04508659721209  avg so far:-111.93033124709558 exploreRate:0.01\n",
            "episode: 17   reward: -253.9321979231436  avg so far:-120.28338222803959 exploreRate:0.01\n",
            "episode: 18   reward: -31.72887278374077  avg so far:-115.36368725891187 exploreRate:0.01\n",
            "episode: 19   reward: -59.23591220732395  avg so far:-112.4095938351441 exploreRate:0.01\n",
            "episode: 20   reward: -50.94242785447258  avg so far:-109.33623553611051 exploreRate:0.01\n",
            "episode: 21   reward: -272.8173935413493  avg so far:-117.12105258397902 exploreRate:0.01\n",
            "episode: 22   reward: -109.98634156612047  avg so far:-116.79674753771273 exploreRate:0.01\n",
            "episode: 23   reward: -125.7288364258105  avg so far:-117.1850992284996 exploreRate:0.01\n",
            "episode: 24   reward: -58.44960734358668  avg so far:-114.73778706662823 exploreRate:0.01\n",
            "episode: 25   reward: -287.5944841477228  avg so far:-121.652054949872 exploreRate:0.01\n",
            "episode: 26   reward: -148.64916012960646  avg so far:-122.69040514909256 exploreRate:0.01\n",
            "episode: 27   reward: -330.6518535135082  avg so far:-130.39268101444128 exploreRate:0.01\n",
            "episode: 28   reward: 10.493166204924998  avg so far:-125.36104361374964 exploreRate:0.01\n",
            "episode: 29   reward: -147.21254367069972  avg so far:-126.11454361571344 exploreRate:0.01\n",
            "episode: 30   reward: -243.22921283731228  avg so far:-130.01836592310008 exploreRate:0.01\n",
            "episode: 31   reward: -222.78960048962836  avg so far:-133.0109863929881 exploreRate:0.01\n",
            "episode: 32   reward: -332.77515821605834  avg so far:-139.25361676245902 exploreRate:0.01\n",
            "episode: 33   reward: -196.49386419367698  avg so far:-140.98816971492016 exploreRate:0.01\n",
            "episode: 34   reward: -74.44348904427358  avg so far:-139.03097322460704 exploreRate:0.01\n",
            "episode: 35   reward: -235.11320707720543  avg so far:-141.77617990610983 exploreRate:0.01\n",
            "episode: 36   reward: 81.13726705552926  avg so far:-135.58413971273097 exploreRate:0.01\n",
            "episode: 37   reward: 139.65815788948868  avg so far:-128.14515869645479 exploreRate:0.01\n",
            "episode: 38   reward: -165.77741795811872  avg so far:-129.13548130860383 exploreRate:0.01\n",
            "episode: 39   reward: 151.07334751140877  avg so far:-121.95063954398812 exploreRate:0.01\n",
            "episode: 40   reward: -55.14033020090045  avg so far:-120.28038181041093 exploreRate:0.01\n",
            "episode: 41   reward: -255.19427875287911  avg so far:-123.57096466266624 exploreRate:0.01\n",
            "episode: 42   reward: 4.093948425043602  avg so far:-120.53132387486362 exploreRate:0.01\n",
            "episode: 43   reward: 92.2339962662832  avg so far:-115.58329317390671 exploreRate:0.01\n",
            "episode: 44   reward: -67.18963058767983  avg so far:-114.48343720603792 exploreRate:0.01\n",
            "episode: 45   reward: -197.38559803015664  avg so far:-116.32570744657389 exploreRate:0.01\n",
            "episode: 46   reward: -80.0122169633927  avg so far:-115.53628374041777 exploreRate:0.01\n",
            "episode: 47   reward: -311.9718104655598  avg so far:-119.71576303244206 exploreRate:0.01\n",
            "episode: 48   reward: -42.82480395033183  avg so far:-118.11386805156475 exploreRate:0.01\n",
            "episode: 49   reward: -147.81669459633858  avg so far:-118.72004818513156 exploreRate:0.01\n",
            "episode: 50   reward: 271.571450239362  avg so far:-110.9142182166417 exploreRate:0.01\n",
            "episode: 51   reward: -139.14330278395374  avg so far:-111.46772967874585 exploreRate:0.01\n",
            "episode: 52   reward: 21.36089250953009  avg so far:-108.91333309820207 exploreRate:0.01\n",
            "episode: 53   reward: -95.59574103368449  avg so far:-108.66205777623004 exploreRate:0.01\n",
            "episode: 54   reward: 126.89319170403309  avg so far:-104.29992352659555 exploreRate:0.01\n",
            "episode: 55   reward: 21.635704113710958  avg so far:-102.01018484222634 exploreRate:0.01\n",
            "episode: 56   reward: -67.40592435830598  avg so far:-101.39225161929919 exploreRate:0.01\n",
            "episode: 57   reward: -43.316342972971974  avg so far:-100.37337602901275 exploreRate:0.01\n",
            "episode: 58   reward: -40.40054537619102  avg so far:-99.33936170741238 exploreRate:0.01\n",
            "episode: 59   reward: -125.40163808022234  avg so far:-99.78109520525662 exploreRate:0.01\n",
            "episode: 60   reward: -61.32293281823144  avg so far:-99.14012583213953 exploreRate:0.01\n",
            "episode: 61   reward: -119.19005113350002  avg so far:-99.46881313216183 exploreRate:0.01\n",
            "episode: 62   reward: -171.17379482715893  avg so far:-100.62534509498437 exploreRate:0.01\n",
            "episode: 63   reward: 74.4786351610136  avg so far:-97.84591683695265 exploreRate:0.01\n",
            "episode: 64   reward: 130.49773129518476  avg so far:-94.278047334888 exploreRate:0.01\n",
            "episode: 65   reward: 35.287003995741884  avg so far:-92.28473885287832 exploreRate:0.01\n",
            "episode: 66   reward: -322.38278302356264  avg so far:-95.77107285546444 exploreRate:0.01\n",
            "episode: 67   reward: -31.422086408868864  avg so far:-94.81064022193317 exploreRate:0.01\n",
            "episode: 68   reward: -10.448680848234561  avg so far:-93.57002317231995 exploreRate:0.01\n",
            "episode: 69   reward: 44.55749854380046  avg so far:-91.5681750315066 exploreRate:0.01\n",
            "episode: 70   reward: 97.92360452973159  avg so far:-88.86114960920321 exploreRate:0.01\n",
            "episode: 71   reward: 113.77057669697211  avg so far:-86.0071816330599 exploreRate:0.01\n",
            "episode: 72   reward: 63.092081996446105  avg so far:-83.93635852709454 exploreRate:0.01\n",
            "episode: 73   reward: -15.271919852472735  avg so far:-82.99574977812712 exploreRate:0.01\n",
            "episode: 74   reward: -235.0531116366781  avg so far:-85.05057899243187 exploreRate:0.01\n",
            "episode: 75   reward: 129.99300751900623  avg so far:-82.18333117227935 exploreRate:0.01\n",
            "episode: 76   reward: -67.933676891337  avg so far:-81.99583572121433 exploreRate:0.01\n",
            "episode: 77   reward: -119.4049053217482  avg so far:-82.48166779394855 exploreRate:0.01\n",
            "episode: 78   reward: 59.13323377896361  avg so far:-80.66609213275736 exploreRate:0.01\n",
            "episode: 79   reward: 89.28711831922048  avg so far:-78.51478567133992 exploreRate:0.01\n",
            "episode: 80   reward: 237.55189310231833  avg so far:-74.5639521866692 exploreRate:0.01\n",
            "episode: 81   reward: 69.49114412665762  avg so far:-72.78549420749232 exploreRate:0.01\n",
            "episode: 82   reward: 281.36329378217437  avg so far:-68.46660654908176 exploreRate:0.01\n"
          ]
        },
        {
          "output_type": "error",
          "ename": "KeyboardInterrupt",
          "evalue": "ignored",
          "\u001b[0;31mKeyboardInterrupt\u001b[0m: "
          ]
        }
      ],
      "source": [
        "agent.exploreRate=0\n",
        "averageRewards=[]\n",
        "totalRewards=[]\n",
        "for i in range(1,500):\n",
        "  done=False\n",
        "  state=env.reset()\n",
        "  rewards=0\n",
        "  while not done:\n",
        "    action=agent.getAction(state)\n",
        "    nextState,reward,done,info=env.step(action)\n",
        "    agent.memory.save(state,action,reward,nextState,int(done))\n",
        "    rewards+=reward\n",
        "    state=nextState\n",
        "    agent.learn(batchSize=64)\n",
        "  totalRewards.append(rewards)\n",
        "  averageRewards.append(sum(totalRewards)/len(totalRewards))\n",
        "  print(f\"episode: {i}   reward: {rewards}  avg so far:{averageRewards[-1]} exploreRate:{agent.exploreRate}\")"
      ]
    },
    {
      "cell_type": "code",
      "execution_count": 9,
      "metadata": {
        "id": "2pBt2WpcdtMW",
        "colab": {
          "base_uri": "https://localhost:8080/",
          "height": 281
        },
        "outputId": "4c37c2f6-e6c3-4f35-aa00-f68c7e118ddc"
      },
      "outputs": [
        {
          "output_type": "display_data",
          "data": {
            "text/plain": [
              "<Figure size 432x288 with 1 Axes>"
            ],
            "image/png": "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\n"
          },
          "metadata": {
            "needs_background": "light"
          }
        }
      ],
      "source": [
        "plt.title(f'Total Rewards')\n",
        "plt.yscale('symlog')\n",
        "plt.plot(totalRewards)\n",
        "plt.savefig(\"Total Rewards\",dpi=200)\n",
        "plt.clf()\n",
        "plt.title(f'Average Rewards')\n",
        "plt.yscale('symlog')\n",
        "plt.plot(averageRewards)\n",
        "plt.savefig(\"Average Rewards\",dpi=200)"
      ]
    },
    {
      "cell_type": "code",
      "source": [
        "agent.saveModel()"
      ],
      "metadata": {
        "id": "qZ6Q36Ccppck"
      },
      "execution_count": 10,
      "outputs": []
    }
  ],
  "metadata": {
    "accelerator": "GPU",
    "colab": {
      "collapsed_sections": [],
      "name": "DQN_for_Gym_LunarLander.ipynb",
      "provenance": []
    },
    "kernelspec": {
      "display_name": "Python 3",
      "name": "python3"
    },
    "language_info": {
      "name": "python"
    }
  },
  "nbformat": 4,
  "nbformat_minor": 0
}
